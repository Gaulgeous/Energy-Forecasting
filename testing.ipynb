{
 "cells": [
  {
   "cell_type": "code",
   "execution_count": 1,
   "metadata": {},
   "outputs": [],
   "source": [
    "import pandas as pd\n",
    "import os\n",
    "import plotly.express as px\n",
    "import re\n",
    "\n",
    "from sklearn.base import BaseEstimator, TransformerMixin\n",
    "from sklearn.decomposition import PCA\n",
    "from sklearn.pipeline import Pipeline\n",
    "from sklearn.preprocessing import MinMaxScaler, StandardScaler\n",
    "\n",
    "from statsmodels.tsa.seasonal import seasonal_decompose\n",
    "\n",
    "import numpy as np\n",
    "import matplotlib.pyplot as plt\n",
    "\n",
    "%matplotlib inline\n"
   ]
  },
  {
   "cell_type": "code",
   "execution_count": 8,
   "metadata": {},
   "outputs": [],
   "source": [
    "\n",
    "class datasets:\n",
    "\n",
    "    def __init__(self):\n",
    "\n",
    "        self.performance_0 = {}\n",
    "        self.performance_1 = {}\n",
    "        self.performance_7 = {}\n",
    "\n",
    "        self.metrics_0 = {}\n",
    "        self.metrics_0 = {}\n",
    "        self.metrics_0 = {}\n",
    "\n",
    "        self.get_datasets()\n",
    "\n",
    "\n",
    "    def get_datasets(self):\n",
    "\n",
    "        folder_path = os.getcwd()\n",
    "        csv_directory = folder_path + r\"\\csvs\"\n",
    "        files = os.listdir(csv_directory)\n",
    "        files = \" \".join(files)\n",
    "        datasets = re.findall(\" [a-zA-Z]+_performances_[0-9]+.csv\", files)\n",
    "        for dataset in datasets:\n",
    "            file_path = csv_directory + \"/\" + dataset[1:]\n",
    "            characteristics = str.split(dataset, '_')\n",
    "            set_name = characteristics[0][1:]\n",
    "            period = int(str.split(characteristics[2], '.')[0])\n",
    "            if period == 0:\n",
    "                self.performance_0[set_name] = pd.read_csv(file_path)\n",
    "            if period == 1:\n",
    "                self.performance_1[set_name] = pd.read_csv(file_path)\n",
    "            if period == 7:\n",
    "                self.performance_7[set_name] = pd.read_csv(file_path)\n",
    "\n",
    "        datasets = re.findall(\" [a-zA-Z]+_metrics_[0-9]+.csv\", files)\n",
    "        for dataset in datasets:\n",
    "            if '_cv_' not in dataset: \n",
    "                file_path = csv_directory + \"/\" + dataset[1:]\n",
    "                characteristics = str.split(dataset, '_')\n",
    "                set_name = characteristics[0][1:]\n",
    "                period = int(str.split(characteristics[2], '.')[0])\n",
    "                if period == 0:\n",
    "                    self.metrics_0[set_name] = pd.read_csv(file_path)\n",
    "                if period == 1:\n",
    "                    self.metrics_1[set_name] = pd.read_csv(file_path)\n",
    "                if period == 7:\n",
    "                    self.metrics_7[set_name] = pd.read_csv(file_path)\n",
    "\n",
    "\n",
    "    def get_performance_data(self, set_name, model, baseline, period):\n",
    "        \n",
    "        if period == 0:\n",
    "            dataframe = self.performance_0.get(set_name)\n",
    "        elif period == 1:\n",
    "            dataframe = self.performance_1.get(set_name)\n",
    "        elif period == 7:\n",
    "            dataframe = self.performance_7.get(set_name)\n",
    "\n",
    "        if baseline:\n",
    "            dataframe = dataframe[[\"Date\", \"Actual\", model, \"Baseline\"]]\n",
    "        else:\n",
    "            dataframe = dataframe[[\"Date\", \"Actual\", model]]\n",
    "\n",
    "        return dataframe\n",
    "    \n",
    "    \n",
    "    def get_metrics_data(self, set_name, model, baseline, period):\n",
    "        \n",
    "        if period == 0:\n",
    "            dataframe = self.metrics_0.get(set_name)\n",
    "        elif period == 1:\n",
    "            dataframe = self.metrics_1.get(set_name)\n",
    "        elif period == 7:\n",
    "            dataframe = self.metrics_7.get(set_name)\n",
    "\n",
    "        if baseline:\n",
    "            baseline_row = dataframe[dataframe['Model'] == \"Baseline\"]\n",
    "            model_row = dataframe[dataframe['Model'] == model]\n",
    "            rows = pd.concat([baseline_row, model_row], ignore_index=True)\n",
    "        else:\n",
    "            rows = dataframe[dataframe['Model'] == model]\n",
    "\n",
    "        return rows\n",
    "    \n",
    "\n",
    "    def get_performance_0(self):\n",
    "        return self.performance_0\n",
    "    \n",
    "\n",
    "    def get_performance_1(self):\n",
    "        return self.performance_1\n",
    "    \n",
    "\n",
    "    def get_performance_7(self):\n",
    "        return self.performance_7\n",
    "    \n",
    "\n",
    "    def get_metrics_0(self):\n",
    "        return self.metrics_0\n",
    "    \n",
    "\n",
    "    def get_metrics_1(self):\n",
    "        return self.metrics_1\n",
    "    \n",
    "    \n",
    "    def get_metrics_7(self):\n",
    "        return self.metrics_7"
   ]
  },
  {
   "cell_type": "code",
   "execution_count": 9,
   "metadata": {},
   "outputs": [],
   "source": [
    "dataset = datasets()\n",
    "set_name = 'matlab'\n",
    "model = 'xgb'\n",
    "baseline = 0\n",
    "period = 0"
   ]
  },
  {
   "cell_type": "code",
   "execution_count": 10,
   "metadata": {},
   "outputs": [
    {
     "data": {
      "text/plain": [
       "{'matlab':            Date    Actual    Basic_nn  Complex_nn       xgb           rf\n",
       " 0    2010-12-07  10288.48  10097.3840  10372.9470  9892.565  8919.886717\n",
       " 1    2010-12-07  10120.55  10053.4290  10268.4130  9667.802  8919.886717\n",
       " 2    2010-12-07   9782.41   9925.5750  10139.3460  9559.137  8919.886717\n",
       " 3    2010-12-07   9533.65   9656.0080   9914.3500  9471.435  8919.886717\n",
       " 4    2010-12-07   9305.94   9600.7390   9776.5960  9366.166  8919.886717\n",
       " ..          ...       ...         ...         ...       ...          ...\n",
       " 995  2010-12-28   7671.25   7613.3296   8125.3860  8777.749  8919.886717\n",
       " 996  2010-12-28   7654.08   7668.3955   8063.4087  8935.477  8919.886717\n",
       " 997  2010-12-28   7637.34   7618.9756   7994.8150  8163.061  8919.886717\n",
       " 998  2010-12-28   7642.43   7593.0806   7944.6436  8403.816  8919.886717\n",
       " 999  2010-12-28   7609.50   7567.2620   7910.4680  8283.473  8919.886717\n",
       " \n",
       " [1000 rows x 6 columns]}"
      ]
     },
     "execution_count": 10,
     "metadata": {},
     "output_type": "execute_result"
    }
   ],
   "source": [
    "perf = dataset.get_performance_0()\n",
    "perf"
   ]
  },
  {
   "cell_type": "code",
   "execution_count": 12,
   "metadata": {},
   "outputs": [
    {
     "name": "stdout",
     "output_type": "stream",
     "text": [
      "         Date    Actual       xgb\n",
      "0  2010-12-07  10288.48  9892.565\n",
      "1  2010-12-07  10120.55  9667.802\n",
      "2  2010-12-07   9782.41  9559.137\n",
      "3  2010-12-07   9533.65  9471.435\n",
      "4  2010-12-07   9305.94  9366.166\n",
      "  Model        RMSE        R2            MSE         MAE      MAPE\n",
      "2   xgb  578.530713  0.822339  334697.785827  455.922305  0.053363\n"
     ]
    }
   ],
   "source": [
    "perf = dataset.get_performance_data(set_name, model, baseline, period)\n",
    "print(perf.head())\n",
    "met = dataset.get_metrics_data(set_name, model, baseline, period)\n",
    "print(met.head())"
   ]
  },
  {
   "cell_type": "code",
   "execution_count": 7,
   "metadata": {},
   "outputs": [
    {
     "name": "stdout",
     "output_type": "stream",
     "text": [
      "c:\\Users\\gauld\\OneDrive\\Documents\\Git\\Energy-Forecasting\\csvs/matlab_performances_0.csv\n",
      "0\n",
      "matlab\n",
      "c:\\Users\\gauld\\OneDrive\\Documents\\Git\\Energy-Forecasting\\csvs/matlab_performances_0.csv\n",
      "         Date    Actual   Basic_nn  Complex_nn       xgb           rf\n",
      "0  2010-12-07  10288.48  10097.384   10372.947  9892.565  8919.886717\n",
      "1  2010-12-07  10120.55  10053.429   10268.413  9667.802  8919.886717\n",
      "2  2010-12-07   9782.41   9925.575   10139.346  9559.137  8919.886717\n",
      "3  2010-12-07   9533.65   9656.008    9914.350  9471.435  8919.886717\n",
      "4  2010-12-07   9305.94   9600.739    9776.596  9366.166  8919.886717\n"
     ]
    }
   ],
   "source": [
    "folder_path = os.getcwd()\n",
    "csv_directory = folder_path + r\"\\csvs\"\n",
    "files = os.listdir(csv_directory)\n",
    "files = \" \".join(files)\n",
    "datasets = re.findall(\" [a-zA-Z]+_performances_[0-9]+.csv\", files)\n",
    "for dataset in datasets:\n",
    "    file_path = csv_directory + \"/\" + dataset[1:]\n",
    "    characteristics = str.split(dataset, '_')\n",
    "    set_name = characteristics[0][1:]\n",
    "    period = int(str.split(characteristics[2], '.')[0])\n",
    "    if period == 0:\n",
    "        self.performance_0[set_name] = pd.read_csv(file_path)\n",
    "    if period == 1:\n",
    "        self.performance_1[set_name] = pd.read_csv(file_path)\n",
    "    if period == 7:\n",
    "        self.performance_7[set_name] = pd.read_csv(file_path)\n",
    " "
   ]
  },
  {
   "cell_type": "code",
   "execution_count": null,
   "metadata": {},
   "outputs": [],
   "source": []
  }
 ],
 "metadata": {
  "kernelspec": {
   "display_name": "Python 3",
   "language": "python",
   "name": "python3"
  },
  "language_info": {
   "codemirror_mode": {
    "name": "ipython",
    "version": 3
   },
   "file_extension": ".py",
   "mimetype": "text/x-python",
   "name": "python",
   "nbconvert_exporter": "python",
   "pygments_lexer": "ipython3",
   "version": "3.9.10"
  },
  "orig_nbformat": 4
 },
 "nbformat": 4,
 "nbformat_minor": 2
}
