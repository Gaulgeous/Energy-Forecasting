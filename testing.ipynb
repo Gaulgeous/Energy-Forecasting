{
 "cells": [
  {
   "cell_type": "code",
   "execution_count": 2,
   "metadata": {},
   "outputs": [],
   "source": [
    "import pandas as pd\n",
    "import os\n",
    "import plotly.express as px\n",
    "import re\n",
    "import datetime\n",
    "\n",
    "from tensorflow.keras.models import load_model\n",
    "from sklearn.base import BaseEstimator, TransformerMixin\n",
    "from sklearn.decomposition import PCA\n",
    "from sklearn.pipeline import Pipeline\n",
    "from sklearn.preprocessing import MinMaxScaler, StandardScaler\n",
    "\n",
    "from statsmodels.tsa.seasonal import seasonal_decompose\n",
    "\n",
    "import numpy as np\n",
    "import matplotlib.pyplot as plt\n",
    "\n",
    "import seaborn as sns\n",
    "\n",
    "%matplotlib inline\n"
   ]
  },
  {
   "cell_type": "code",
   "execution_count": 50,
   "metadata": {},
   "outputs": [],
   "source": [
    "class Forecaster:\n",
    "\n",
    "    def __init__(self):\n",
    "        path = os.getcwd()\n",
    "        model_path = path + \"/models/matlab_basic_nn_0\"\n",
    "        self.model = load_model(model_path)\n",
    "\n",
    "        file_path = path + \"/csvs/matlab_temp.xlsx\"\n",
    "        target = \"SYSLoad\"\n",
    "        trend_type = \"additive\"\n",
    "        future = 0\n",
    "        epd = 48\n",
    "        self.data = self.feature_adder(file_path, target, trend_type, future, epd)\n",
    "\n",
    "\n",
    "    def feature_adder(self, file_path, target, trend_type, future, epd):\n",
    "\n",
    "        data = pd.read_excel(file_path).set_index(\"Date\")\n",
    "\n",
    "        data['PrevDaySameHour'] = data[target].copy().shift(epd)\n",
    "        data['PrevWeekSameHour'] = data[target].copy().shift(epd*7)\n",
    "        data['Prev24HourAveLoad'] = data[target].copy().rolling(window=epd*7, min_periods=1).mean()\n",
    "        data['Weekday'] = data.index.dayofweek\n",
    "\n",
    "        if 'Holiday' in data.columns.values:\n",
    "            data.loc[(data['Weekday'] < 5) & (data['Holiday'] == 0), 'IsWorkingDay'] = 1\n",
    "            data.loc[(data['Weekday'] > 4) | (data['Holiday'] == 1), 'IsWorkingDay'] = 0\n",
    "        else:\n",
    "            data.loc[data['Weekday'] < 5, 'IsWorkingDay'] = 1\n",
    "            data.loc[data['Weekday'] > 4, 'IsWorkingDay'] = 0\n",
    "\n",
    "        dec_daily = seasonal_decompose(data[target], model=trend_type, period=epd)\n",
    "        dec_weekly = seasonal_decompose(data[target], model=trend_type, period=epd*7)\n",
    "\n",
    "        data['IntraDayTrend'] = dec_daily.trend\n",
    "        data['IntraDaySeasonal'] = dec_daily.seasonal\n",
    "        data['IntraWeekTrend'] = dec_weekly.trend\n",
    "        data['IntraWeekSeasonal'] = dec_weekly.seasonal\n",
    "\n",
    "        data = data.dropna(how='any', axis='rows')\n",
    "\n",
    "        # future > 10 needs addressing - it is not yet implemented\n",
    "        if future > 10:\n",
    "            data = data[['DryBulb', 'DewPnt', 'Prev5DayHighAve', 'Prev5DayLowAve', 'Hour', 'Weekday', 'IsWorkingDay']]\n",
    "        else:\n",
    "            data = data.drop(\"{0}\".format(target), axis=1)\n",
    "\n",
    "        return data\n",
    "        \n",
    "\n",
    "    def create_input(self, humidity, holiday, drybulb, dewpoint, wetbulb, window):\n",
    "\n",
    "        # hour, drybulb, dewpoint, wetbuln, humidity, elecprice, holiday, prevdaysamehour, prevweeksamehour, \n",
    "        # prev24hourav, weekday, workingday, intradaytrend, intradayseasonal, intraweektrend, intraweekseasonal\n",
    "\n",
    "        now = datetime.datetime.now()\n",
    "        hour = now.hour\n",
    "        minute = (now.minute // 30) * 0.5\n",
    "        current_time = hour + minute\n",
    "\n",
    "        tail = self.data.tail(window - 1)\n",
    "\n",
    "        last_row = self.data.loc[self.data[\"Hour\"] == current_time]\n",
    "        last_row = last_row.tail(1)\n",
    "        input = [current_time, drybulb, dewpoint, wetbulb, humidity, last_row['ElecPrice'], holiday, \n",
    "                 last_row[\"PrevDaySameHour\"], last_row[\"PrevWeekSameHour\"], last_row['Prev24HourAveLoad'], 1, 1, \n",
    "                 last_row[\"IntraDayTrend\"], last_row[\"IntraDaySeasonal\"], last_row[\"IntraWeekTrend\"], last_row[\"IntraWeekSeasonal\"]]\n",
    "        \n",
    "        input = np.append(tail, input)\n",
    "        \n",
    "        return np.array(input).astype(\"float32\").reshape(1, -1)\n",
    "\n",
    "    def predict(self, input):\n",
    "        return self.model.predict(input)[0][0]"
   ]
  },
  {
   "cell_type": "code",
   "execution_count": 51,
   "metadata": {},
   "outputs": [],
   "source": [
    "forecaster = Forecaster()"
   ]
  },
  {
   "cell_type": "code",
   "execution_count": 52,
   "metadata": {},
   "outputs": [
    {
     "name": "stdout",
     "output_type": "stream",
     "text": [
      "1/1 [==============================] - 0s 55ms/step\n"
     ]
    },
    {
     "name": "stderr",
     "output_type": "stream",
     "text": [
      "c:\\Users\\gauld\\AppData\\Local\\Programs\\Python\\Python39\\lib\\site-packages\\numpy\\core\\fromnumeric.py:1859: VisibleDeprecationWarning: Creating an ndarray from ragged nested sequences (which is a list-or-tuple of lists-or-tuples-or ndarrays with different lengths or shapes) is deprecated. If you meant to do this, you must specify 'dtype=object' when creating the ndarray.\n",
      "  return asanyarray(a).ravel(order=order)\n",
      "C:\\Users\\gauld\\AppData\\Local\\Temp\\ipykernel_2728\\2216011027.py:71: FutureWarning: Calling float on a single element Series is deprecated and will raise a TypeError in the future. Use float(ser.iloc[0]) instead\n",
      "  return np.array(input).astype(\"float32\").reshape(1, -1)\n"
     ]
    },
    {
     "data": {
      "text/plain": [
       "4792.174"
      ]
     },
     "execution_count": 52,
     "metadata": {},
     "output_type": "execute_result"
    }
   ],
   "source": [
    "input = forecaster.create_input(1, 2, 3, 4, 5, 10)\n",
    "# print(input.shape)\n",
    "prediction = forecaster.predict(input)\n",
    "prediction"
   ]
  },
  {
   "cell_type": "code",
   "execution_count": null,
   "metadata": {},
   "outputs": [],
   "source": []
  }
 ],
 "metadata": {
  "kernelspec": {
   "display_name": "Python 3",
   "language": "python",
   "name": "python3"
  },
  "language_info": {
   "codemirror_mode": {
    "name": "ipython",
    "version": 3
   },
   "file_extension": ".py",
   "mimetype": "text/x-python",
   "name": "python",
   "nbconvert_exporter": "python",
   "pygments_lexer": "ipython3",
   "version": "3.9.10"
  },
  "orig_nbformat": 4
 },
 "nbformat": 4,
 "nbformat_minor": 2
}
