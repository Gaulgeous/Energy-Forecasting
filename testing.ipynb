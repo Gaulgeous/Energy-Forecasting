{
 "cells": [
  {
   "cell_type": "code",
   "execution_count": 21,
   "metadata": {},
   "outputs": [],
   "source": [
    "import pandas as pd\n",
    "import os\n",
    "import plotly.express as px\n",
    "import re\n",
    "\n",
    "from sklearn.base import BaseEstimator, TransformerMixin\n",
    "from sklearn.decomposition import PCA\n",
    "from sklearn.pipeline import Pipeline\n",
    "from sklearn.preprocessing import MinMaxScaler, StandardScaler\n",
    "\n",
    "from statsmodels.tsa.seasonal import seasonal_decompose\n",
    "\n",
    "import numpy as np\n",
    "import matplotlib.pyplot as plt\n",
    "\n",
    "%matplotlib inline\n"
   ]
  },
  {
   "cell_type": "code",
   "execution_count": 22,
   "metadata": {},
   "outputs": [],
   "source": [
    "file_path = r\"C:\\Users\\gauld\\OneDrive\\Documents\\Git\\Energy-Forecasting\\csvs\\matlab_temp.xlsx\"\n",
    "csv_directory = r\"C:\\Users\\gauld\\OneDrive\\Documents\\Git\\Energy-Forecasting\\csvs\"\n",
    "target = 'SYSLoad'\n",
    "future = 0\n",
    "epd = 48\n",
    "set_name = \"matlab\""
   ]
  },
  {
   "cell_type": "code",
   "execution_count": 23,
   "metadata": {},
   "outputs": [],
   "source": [
    "def plotseasonal(res, axes):\n",
    "    res.observed[-200:].plot(ax=axes[0], legend=False)\n",
    "    axes[0].set_ylabel('Observed')\n",
    "    res.trend[-200:].plot(ax=axes[1], legend=False)\n",
    "    axes[1].set_ylabel('Trend')\n",
    "    res.seasonal[-200:].plot(ax=axes[2], legend=False)\n",
    "    axes[2].set_ylabel('Seasonal')\n",
    "    res.resid[-200:].plot(ax=axes[3], legend=False)\n",
    "    axes[3].set_ylabel('Residual')"
   ]
  },
  {
   "cell_type": "code",
   "execution_count": 29,
   "metadata": {},
   "outputs": [],
   "source": [
    "data = pd.read_excel(file_path).set_index(\"Date\")\n",
    "\n",
    "data['PrevDaySameHour'] = data[target].copy().shift(epd)\n",
    "data['PrevWeekSameHour'] = data[target].copy().shift(epd*7)\n",
    "data['Prev24HourAveLoad'] = data[target].copy().rolling(window=epd*7, min_periods=1).mean()\n",
    "data['Weekday'] = data.index.dayofweek\n",
    "data.loc[(data['Weekday'] < 5) & (data['Holiday'] == 0), 'IsWorkingDay'] = 1\n",
    "data.loc[(data['Weekday'] > 4) | (data['Holiday'] == 1), 'IsWorkingDay'] = 0\n",
    "\n",
    "dec_daily = seasonal_decompose(data[target], model='additive', period=epd)\n",
    "dec_weekly = seasonal_decompose(data[target], model='additive', period=epd*7)\n",
    "\n",
    "data['IntraDayTrend'] = dec_daily.trend\n",
    "data['IntraDaySeasonal'] = dec_daily.seasonal\n",
    "data['IntraWeekTrend'] = dec_weekly.trend\n",
    "data['IntraWeekSeasonal'] = dec_weekly.seasonal\n",
    "\n",
    "# develop an imputer to replace values that don't exist somehow???\n",
    "\n",
    "data = data.dropna(how='any', axis='rows')\n",
    "y = data[target].shift(-epd*future).reset_index(drop=True)\n",
    "y = y.dropna(how='any', axis='rows')\n",
    "\n",
    "future_dates = pd.Series(data.index[future*epd:])\n",
    "outputs = pd.DataFrame({\"Date\": future_dates, \"{0}\".format(target): y})\n",
    "\n",
    "# future > 10 needs addressing - it is not yet implemented\n",
    "if future > 10:\n",
    "    data = data[['DryBulb', 'DewPnt', 'Prev5DayHighAve', 'Prev5DayLowAve', 'Hour', 'Weekday', 'IsWorkingDay']]\n",
    "else:\n",
    "    data = data.drop(\"{0}\".format(target), axis=1)\n",
    "\n",
    "data_name = csv_directory + \"/\" + set_name + \"_data_\" + str(future) + \".csv\"\n",
    "output_name = csv_directory + \"/\" + set_name + \"_outputs_\" + str(future) + \".csv\"\n",
    "\n",
    "data.to_csv(data_name)\n",
    "outputs.to_csv(output_name, index=False)"
   ]
  },
  {
   "cell_type": "code",
   "execution_count": 25,
   "metadata": {},
   "outputs": [],
   "source": [
    "dec_daily = seasonal_decompose(data[target], model='additive', period=epd)\n",
    "dec_weekly = seasonal_decompose(data[target], model='additive', period=epd*7)\n",
    "\n",
    "data['IntraDayTrend'] = dec_daily.trend\n",
    "data['IntraDaySeasonal'] = dec_daily.seasonal\n",
    "data['IntraWeekTrend'] = dec_weekly.trend\n",
    "data['IntraWeekSeasonal'] = dec_weekly.seasonal"
   ]
  },
  {
   "cell_type": "code",
   "execution_count": 26,
   "metadata": {},
   "outputs": [],
   "source": [
    "# develop an imputer to replace values that don't exist somehow???\n",
    "\n",
    "data = data.dropna(how='any', axis='rows')\n",
    "y = data[target].shift(-epd*future).reset_index(drop=True)\n",
    "y = y.dropna(how='any', axis='rows')\n",
    "\n",
    "future_dates = pd.Series(data.index[future*epd:])\n",
    "outputs = pd.DataFrame({\"Date\": future_dates, \"{0}\".format(target): y})"
   ]
  },
  {
   "cell_type": "code",
   "execution_count": 28,
   "metadata": {},
   "outputs": [],
   "source": [
    "# future > 10 needs addressing - it is not yet implemented\n",
    "if future > 10:\n",
    "    data = data[['DryBulb', 'DewPnt', 'Prev5DayHighAve', 'Prev5DayLowAve', 'Hour', 'Weekday', 'IsWorkingDay']]\n",
    "else:\n",
    "    data = data.drop(\"{0}\".format(target), axis=1)\n",
    "\n",
    "data_name = csv_directory + \"/\" + set_name + \"_data_\" + str(future) + \".csv\"\n",
    "output_name = csv_directory + \"/\" + set_name + \"_outputs_\" + str(future) + \".csv\"\n",
    "\n",
    "data.to_csv(data_name)\n",
    "outputs.to_csv(output_name, index=False)"
   ]
  },
  {
   "cell_type": "code",
   "execution_count": null,
   "metadata": {},
   "outputs": [],
   "source": []
  }
 ],
 "metadata": {
  "kernelspec": {
   "display_name": "Python 3",
   "language": "python",
   "name": "python3"
  },
  "language_info": {
   "codemirror_mode": {
    "name": "ipython",
    "version": 3
   },
   "file_extension": ".py",
   "mimetype": "text/x-python",
   "name": "python",
   "nbconvert_exporter": "python",
   "pygments_lexer": "ipython3",
   "version": "3.9.10"
  },
  "orig_nbformat": 4
 },
 "nbformat": 4,
 "nbformat_minor": 2
}
