{
 "cells": [
  {
   "cell_type": "code",
   "execution_count": 2,
   "metadata": {},
   "outputs": [
    {
     "ename": "ImportError",
     "evalue": "this version of pandas is incompatible with numpy < 1.20.3\nyour numpy version is 1.19.5.\nPlease upgrade numpy to >= 1.20.3 to use this pandas version",
     "output_type": "error",
     "traceback": [
      "\u001b[1;31m---------------------------------------------------------------------------\u001b[0m",
      "\u001b[1;31mImportError\u001b[0m                               Traceback (most recent call last)",
      "Cell \u001b[1;32mIn[2], line 10\u001b[0m\n\u001b[0;32m      7\u001b[0m \u001b[39mfrom\u001b[39;00m \u001b[39msklearn\u001b[39;00m\u001b[39m.\u001b[39;00m\u001b[39mmetrics\u001b[39;00m \u001b[39mimport\u001b[39;00m mean_squared_error \u001b[39mas\u001b[39;00m mse, r2_score, mean_absolute_error \u001b[39mas\u001b[39;00m mae, mean_absolute_percentage_error \u001b[39mas\u001b[39;00m mape\n\u001b[0;32m      9\u001b[0m \u001b[39mimport\u001b[39;00m \u001b[39mos\u001b[39;00m\n\u001b[1;32m---> 10\u001b[0m \u001b[39mimport\u001b[39;00m \u001b[39mpandas\u001b[39;00m \u001b[39mas\u001b[39;00m \u001b[39mpd\u001b[39;00m\n\u001b[0;32m     11\u001b[0m \u001b[39mimport\u001b[39;00m \u001b[39mnumpy\u001b[39;00m \u001b[39mas\u001b[39;00m \u001b[39mnp\u001b[39;00m\n\u001b[0;32m     12\u001b[0m \u001b[39mfrom\u001b[39;00m \u001b[39mtpot\u001b[39;00m \u001b[39mimport\u001b[39;00m TPOTRegressor\n",
      "File \u001b[1;32mc:\\Users\\gauld\\AppData\\Local\\Programs\\Python\\Python39\\lib\\site-packages\\pandas\\__init__.py:22\u001b[0m\n\u001b[0;32m     19\u001b[0m \u001b[39mdel\u001b[39;00m _hard_dependencies, _dependency, _missing_dependencies\n\u001b[0;32m     21\u001b[0m \u001b[39m# numpy compat\u001b[39;00m\n\u001b[1;32m---> 22\u001b[0m \u001b[39mfrom\u001b[39;00m \u001b[39mpandas\u001b[39;00m\u001b[39m.\u001b[39;00m\u001b[39mcompat\u001b[39;00m \u001b[39mimport\u001b[39;00m is_numpy_dev \u001b[39mas\u001b[39;00m _is_numpy_dev  \u001b[39m# pyright: ignore # noqa:F401\u001b[39;00m\n\u001b[0;32m     24\u001b[0m \u001b[39mtry\u001b[39;00m:\n\u001b[0;32m     25\u001b[0m     \u001b[39mfrom\u001b[39;00m \u001b[39mpandas\u001b[39;00m\u001b[39m.\u001b[39;00m\u001b[39m_libs\u001b[39;00m \u001b[39mimport\u001b[39;00m hashtable \u001b[39mas\u001b[39;00m _hashtable, lib \u001b[39mas\u001b[39;00m _lib, tslib \u001b[39mas\u001b[39;00m _tslib\n",
      "File \u001b[1;32mc:\\Users\\gauld\\AppData\\Local\\Programs\\Python\\Python39\\lib\\site-packages\\pandas\\compat\\__init__.py:18\u001b[0m\n\u001b[0;32m     15\u001b[0m \u001b[39mfrom\u001b[39;00m \u001b[39mtyping\u001b[39;00m \u001b[39mimport\u001b[39;00m TYPE_CHECKING\n\u001b[0;32m     17\u001b[0m \u001b[39mfrom\u001b[39;00m \u001b[39mpandas\u001b[39;00m\u001b[39m.\u001b[39;00m\u001b[39m_typing\u001b[39;00m \u001b[39mimport\u001b[39;00m F\n\u001b[1;32m---> 18\u001b[0m \u001b[39mfrom\u001b[39;00m \u001b[39mpandas\u001b[39;00m\u001b[39m.\u001b[39;00m\u001b[39mcompat\u001b[39;00m\u001b[39m.\u001b[39;00m\u001b[39mnumpy\u001b[39;00m \u001b[39mimport\u001b[39;00m (\n\u001b[0;32m     19\u001b[0m     is_numpy_dev,\n\u001b[0;32m     20\u001b[0m     np_version_under1p21,\n\u001b[0;32m     21\u001b[0m )\n\u001b[0;32m     22\u001b[0m \u001b[39mfrom\u001b[39;00m \u001b[39mpandas\u001b[39;00m\u001b[39m.\u001b[39;00m\u001b[39mcompat\u001b[39;00m\u001b[39m.\u001b[39;00m\u001b[39mpyarrow\u001b[39;00m \u001b[39mimport\u001b[39;00m (\n\u001b[0;32m     23\u001b[0m     pa_version_under1p01,\n\u001b[0;32m     24\u001b[0m     pa_version_under2p0,\n\u001b[1;32m   (...)\u001b[0m\n\u001b[0;32m     31\u001b[0m     pa_version_under9p0,\n\u001b[0;32m     32\u001b[0m )\n\u001b[0;32m     34\u001b[0m \u001b[39mif\u001b[39;00m TYPE_CHECKING:\n",
      "File \u001b[1;32mc:\\Users\\gauld\\AppData\\Local\\Programs\\Python\\Python39\\lib\\site-packages\\pandas\\compat\\numpy\\__init__.py:23\u001b[0m\n\u001b[0;32m     19\u001b[0m     np_percentile_argname \u001b[39m=\u001b[39m \u001b[39m\"\u001b[39m\u001b[39minterpolation\u001b[39m\u001b[39m\"\u001b[39m\n\u001b[0;32m     22\u001b[0m \u001b[39mif\u001b[39;00m _nlv \u001b[39m<\u001b[39m Version(_min_numpy_ver):\n\u001b[1;32m---> 23\u001b[0m     \u001b[39mraise\u001b[39;00m \u001b[39mImportError\u001b[39;00m(\n\u001b[0;32m     24\u001b[0m         \u001b[39mf\u001b[39m\u001b[39m\"\u001b[39m\u001b[39mthis version of pandas is incompatible with numpy < \u001b[39m\u001b[39m{\u001b[39;00m_min_numpy_ver\u001b[39m}\u001b[39;00m\u001b[39m\\n\u001b[39;00m\u001b[39m\"\u001b[39m\n\u001b[0;32m     25\u001b[0m         \u001b[39mf\u001b[39m\u001b[39m\"\u001b[39m\u001b[39myour numpy version is \u001b[39m\u001b[39m{\u001b[39;00m_np_version\u001b[39m}\u001b[39;00m\u001b[39m.\u001b[39m\u001b[39m\\n\u001b[39;00m\u001b[39m\"\u001b[39m\n\u001b[0;32m     26\u001b[0m         \u001b[39mf\u001b[39m\u001b[39m\"\u001b[39m\u001b[39mPlease upgrade numpy to >= \u001b[39m\u001b[39m{\u001b[39;00m_min_numpy_ver\u001b[39m}\u001b[39;00m\u001b[39m to use this pandas version\u001b[39m\u001b[39m\"\u001b[39m\n\u001b[0;32m     27\u001b[0m     )\n\u001b[0;32m     30\u001b[0m __all__ \u001b[39m=\u001b[39m [\n\u001b[0;32m     31\u001b[0m     \u001b[39m\"\u001b[39m\u001b[39mnp\u001b[39m\u001b[39m\"\u001b[39m,\n\u001b[0;32m     32\u001b[0m     \u001b[39m\"\u001b[39m\u001b[39m_np_version\u001b[39m\u001b[39m\"\u001b[39m,\n\u001b[0;32m     33\u001b[0m     \u001b[39m\"\u001b[39m\u001b[39mis_numpy_dev\u001b[39m\u001b[39m\"\u001b[39m,\n\u001b[0;32m     34\u001b[0m ]\n",
      "\u001b[1;31mImportError\u001b[0m: this version of pandas is incompatible with numpy < 1.20.3\nyour numpy version is 1.19.5.\nPlease upgrade numpy to >= 1.20.3 to use this pandas version"
     ]
    }
   ],
   "source": [
    "import absl.logging\n",
    "\n",
    "from sklearn.base import BaseEstimator, TransformerMixin\n",
    "from sklearn.decomposition import PCA\n",
    "from sklearn.pipeline import Pipeline\n",
    "from sklearn.preprocessing import MinMaxScaler, StandardScaler\n",
    "from sklearn.metrics import mean_squared_error as mse, r2_score, mean_absolute_error as mae, mean_absolute_percentage_error as mape\n",
    "from statsmodels.tsa.seasonal import seasonal_decompose\n",
    "\n",
    "import os\n",
    "import pandas as pd\n",
    "import numpy as np\n",
    "from tpot import TPOTRegressor"
   ]
  },
  {
   "cell_type": "code",
   "execution_count": 186,
   "metadata": {},
   "outputs": [],
   "source": [
    "folder_path = r\"C:\\Users\\gauld\\OneDrive\\Documents\\4th year\\Thesis\\pipeline\"\n",
    "model_directory = folder_path + r\"\\models\"\n",
    "csv_directory = folder_path + r\"\\csvs\"\n",
    "\n",
    "standard_scaling = 1\n",
    "epochs = 2\n",
    "batch_size = 1\n",
    "future = 0\n",
    "window = 3\n",
    "split = 0.7\n",
    "\n",
    "absl.logging.set_verbosity(absl.logging.ERROR)"
   ]
  },
  {
   "cell_type": "code",
   "execution_count": 187,
   "metadata": {},
   "outputs": [
    {
     "data": {
      "text/plain": [
       "('C:\\\\Users\\\\gauld\\\\OneDrive\\\\Documents\\\\4th year\\\\Thesis\\\\pipeline\\\\models',\n",
       " 'C:\\\\Users\\\\gauld\\\\OneDrive\\\\Documents\\\\4th year\\\\Thesis\\\\pipeline\\\\csvs')"
      ]
     },
     "execution_count": 187,
     "metadata": {},
     "output_type": "execute_result"
    }
   ],
   "source": [
    "model_directory, csv_directory"
   ]
  },
  {
   "cell_type": "code",
   "execution_count": 188,
   "metadata": {},
   "outputs": [],
   "source": [
    "def restitch(array, stride):\n",
    "    flat = array.flatten().reshape(-1, array.shape[2]*array.shape[1])\n",
    "    keep = [i for i in range(len(flat)) if not(i%(stride+1)==0 and i>0)]\n",
    "    return flat[keep]"
   ]
  },
  {
   "cell_type": "code",
   "execution_count": 189,
   "metadata": {},
   "outputs": [],
   "source": [
    "def create_dataset(input, win_size):\n",
    "    \n",
    "    np_data = input.copy()\n",
    "\n",
    "    X = []\n",
    "\n",
    "    for i in range(len(np_data)-win_size):\n",
    "        row = [r for r in np_data[i:i+win_size]]\n",
    "        X.append(row)\n",
    "\n",
    "    X = np.array(X).astype(np.float32)\n",
    "    X = X.flatten().reshape(X.shape[0], -1)\n",
    "\n",
    "    return X\n"
   ]
  },
  {
   "cell_type": "code",
   "execution_count": 190,
   "metadata": {},
   "outputs": [],
   "source": [
    "\n",
    "class FeatureScaler(BaseEstimator, TransformerMixin):\n",
    "\n",
    "    def fit(self, X, y=None):\n",
    "        return self\n",
    "    \n",
    "    def transform(self, X):\n",
    "\n",
    "        if standard_scaling:\n",
    "            dry = StandardScaler()\n",
    "            dew = StandardScaler()\n",
    "            wet = StandardScaler()\n",
    "            humid = StandardScaler()\n",
    "            hour = StandardScaler()\n",
    "            prevWeek = StandardScaler()\n",
    "            prevDay = StandardScaler()\n",
    "            prev24 = StandardScaler()\n",
    "\n",
    "        else:\n",
    "            dry = MinMaxScaler(feature_range=(0,1))\n",
    "            dew = MinMaxScaler(feature_range=(0,1))\n",
    "            wet = MinMaxScaler(feature_range=(0,1))\n",
    "            humid = MinMaxScaler(feature_range=(0,1))\n",
    "            hour = MinMaxScaler(feature_range=(0,1))\n",
    "            prevWeek = MinMaxScaler(feature_range=(0,1))\n",
    "            prevDay = MinMaxScaler(feature_range=(0,1))\n",
    "            prev24 = MinMaxScaler(feature_range=(0,1))\n",
    "\n",
    "        X['DryBulb'] = dry.fit_transform(X[['DryBulb']])\n",
    "        X['DewPnt'] = dew.fit_transform(X[['DewPnt']])\n",
    "        X['WetBulb'] = wet.fit_transform(X[['WetBulb']])\n",
    "        X['Humidity'] = humid.fit_transform(X[['Humidity']])\n",
    "        X['Hour'] = hour.fit_transform(X[['Hour']])\n",
    "        X['PrevWeekSameHour'] = prevWeek.fit_transform(X[['PrevWeekSameHour']])\n",
    "        X['PrevDaySameHour'] = prevDay.fit_transform(X[['PrevDaySameHour']])\n",
    "        X['Prev24HourAveLoad'] = prev24.fit_transform(X[['Prev24HourAveLoad']])\n",
    "\n",
    "        return [dry, dew, wet, humid, hour, prevWeek, prevDay, prev24]"
   ]
  },
  {
   "cell_type": "code",
   "execution_count": 191,
   "metadata": {},
   "outputs": [],
   "source": [
    "def get_metrics(predictions, actual):\n",
    "\n",
    "    MSE = mse(actual, predictions, squared=True)\n",
    "    MAE = mae(actual, predictions)\n",
    "    MAPE = mape(actual, predictions)\n",
    "    RMSE = mse(actual, predictions, squared=False)\n",
    "    R2 = r2_score(actual, predictions)\n",
    "\n",
    "    metrics = {'RMSE': RMSE, 'R2': R2, 'MSE': MSE, 'MAE': MAE, 'MAPE': MAPE}\n",
    "    return metrics"
   ]
  },
  {
   "cell_type": "code",
   "execution_count": 192,
   "metadata": {},
   "outputs": [],
   "source": [
    "def scaling(csv_directory, future):\n",
    "\n",
    "    data = pd.read_csv(csv_directory + r\"\\data_\" + str(future) + \".csv\").drop('Date', axis=1)\n",
    "    outputs = pd.read_csv(csv_directory + r\"\\outputs_\" + str(future) + \".csv\")\n",
    "\n",
    "    pipe = Pipeline([('Scaler', FeatureScaler())])\n",
    "    scalers = pipe.fit_transform(data)\n",
    "\n",
    "    pred_dates = outputs['Date']\n",
    "    actual = outputs['SYSLoad']\n",
    "\n",
    "    if standard_scaling:\n",
    "        y_scaler = StandardScaler()\n",
    "\n",
    "    else:\n",
    "        y_scaler = MinMaxScaler(feature_range=(0,1))\n",
    "\n",
    "    y_data = y_scaler.fit_transform(outputs[['SYSLoad']])\n",
    "\n",
    "    X_frame = np.array(data).astype(np.float32)\n",
    "    y_data = np.array(y_data).astype(np.float32)\n",
    "\n",
    "    np.save(csv_directory + r\"\\X_train.npy\", X_frame)\n",
    "    np.save(csv_directory + r\"\\y_train.npy\", y_data)\n",
    "\n",
    "    return X_frame, y_data, pred_dates, y_scaler, scalers"
   ]
  },
  {
   "cell_type": "code",
   "execution_count": 193,
   "metadata": {},
   "outputs": [
    {
     "name": "stdout",
     "output_type": "stream",
     "text": [
      "    DryBulb    DewPnt   WetBulb  Humidity      Hour  Weekday  IsWorkingDay  \\\n",
      "0  0.688102  1.124625  1.058434  0.689912 -1.624150        6           0.0   \n",
      "1  0.667613  1.170364  1.081746  0.778966 -1.551966        6           0.0   \n",
      "2  0.647124  1.197807  1.093401  0.868021 -1.479781        6           0.0   \n",
      "3  0.626636  1.225251  1.105057  0.957075 -1.407597        6           0.0   \n",
      "4  0.667613  1.216103  1.116713  0.868021 -1.335412        6           0.0   \n",
      "\n",
      "   PrevWeekSameHour  PrevDaySameHour  Prev24HourAveLoad  \n",
      "0         -0.629116        -1.068261          -1.178185  \n",
      "1         -0.832556        -1.285618          -1.183704  \n",
      "2         -1.084049        -1.528614          -1.188809  \n",
      "3         -1.297887        -1.748005          -1.193678  \n",
      "4         -1.444502        -1.877083          -1.197902  \n"
     ]
    },
    {
     "data": {
      "text/plain": [
       "((61115, 30), (61115, 1))"
      ]
     },
     "execution_count": 193,
     "metadata": {},
     "output_type": "execute_result"
    }
   ],
   "source": [
    "X_frame, y_data, pred_dates, y_scaler, scalers = scaling(csv_directory, future)\n",
    "length = X_frame.shape[0]\n",
    "\n",
    "y_train = y_data[window:int(length*split)]\n",
    "\n",
    "X_train = create_dataset(X_frame[:int(length*split)], window)\n",
    "\n",
    "X_train.shape, y_train.shape"
   ]
  },
  {
   "cell_type": "code",
   "execution_count": 194,
   "metadata": {},
   "outputs": [
    {
     "ename": "NameError",
     "evalue": "name 'TPOTRegressor' is not defined",
     "output_type": "error",
     "traceback": [
      "\u001b[1;31m---------------------------------------------------------------------------\u001b[0m",
      "\u001b[1;31mNameError\u001b[0m                                 Traceback (most recent call last)",
      "Cell \u001b[1;32mIn[194], line 1\u001b[0m\n\u001b[1;32m----> 1\u001b[0m model \u001b[39m=\u001b[39m TPOTRegressor(early_stop\u001b[39m=\u001b[39m\u001b[39m5\u001b[39m, verbosity\u001b[39m=\u001b[39m\u001b[39m1\u001b[39m, max_time_mins\u001b[39m=\u001b[39m\u001b[39m180\u001b[39m)\n\u001b[0;32m      2\u001b[0m model\u001b[39m.\u001b[39mfit(X_train, y_train)\n\u001b[0;32m      3\u001b[0m model\u001b[39m.\u001b[39mexport(csv_directory \u001b[39m+\u001b[39m \u001b[39mr\u001b[39m\u001b[39m\"\u001b[39m\u001b[39m\\\u001b[39m\u001b[39mtpot_\u001b[39m\u001b[39m\"\u001b[39m \u001b[39m+\u001b[39m \u001b[39mstr\u001b[39m(future) \u001b[39m+\u001b[39m \u001b[39m\"\u001b[39m\u001b[39m.py\u001b[39m\u001b[39m\"\u001b[39m)\n",
      "\u001b[1;31mNameError\u001b[0m: name 'TPOTRegressor' is not defined"
     ]
    }
   ],
   "source": [
    "model = TPOTRegressor(early_stop=5, verbosity=1, max_time_mins=180)\n",
    "model.fit(X_train, y_train)\n",
    "model.export(csv_directory + r\"\\tpot_\" + str(future) + \".py\")"
   ]
  },
  {
   "cell_type": "code",
   "execution_count": null,
   "metadata": {},
   "outputs": [],
   "source": []
  }
 ],
 "metadata": {
  "kernelspec": {
   "display_name": "Python 3",
   "language": "python",
   "name": "python3"
  },
  "language_info": {
   "codemirror_mode": {
    "name": "ipython",
    "version": 3
   },
   "file_extension": ".py",
   "mimetype": "text/x-python",
   "name": "python",
   "nbconvert_exporter": "python",
   "pygments_lexer": "ipython3",
   "version": "3.9.10"
  },
  "orig_nbformat": 4
 },
 "nbformat": 4,
 "nbformat_minor": 2
}
